{
  "nbformat": 4,
  "nbformat_minor": 0,
  "metadata": {
    "kernelspec": {
      "display_name": "Python 3",
      "language": "python",
      "name": "python3"
    },
    "language_info": {
      "codemirror_mode": {
        "name": "ipython",
        "version": 3
      },
      "file_extension": ".py",
      "mimetype": "text/x-python",
      "name": "python",
      "nbconvert_exporter": "python",
      "pygments_lexer": "ipython3",
      "version": "3.6.0"
    },
    "colab": {
      "name": "LHR.ipynb",
      "provenance": [],
      "include_colab_link": true
    }
  },
  "cells": [
    {
      "cell_type": "markdown",
      "metadata": {
        "id": "view-in-github",
        "colab_type": "text"
      },
      "source": [
        "<a href=\"https://colab.research.google.com/github/TSUParticleModelingGroup/Calculus-II/blob/master/NumericalIntigration/LHR.ipynb\" target=\"_parent\"><img src=\"https://colab.research.google.com/assets/colab-badge.svg\" alt=\"Open In Colab\"/></a>"
      ]
    },
    {
      "cell_type": "code",
      "metadata": {
        "id": "BQcDelX-YSDd",
        "colab_type": "code",
        "colab": {
          "base_uri": "https://localhost:8080/",
          "height": 52
        },
        "outputId": "673f6695-5ffc-44fd-8005-89b28c97f418"
      },
      "source": [
        "import math\n",
        "import numpy as np\n",
        "\n",
        "def f(x):\n",
        "    #return( math.exp(x*x) )\n",
        "    return( x*x )\n",
        "\n",
        "# The following are your start and stop values\n",
        "a = -5.0\n",
        "b = 5.0\n",
        "\n",
        "# The number of rectangles used\n",
        "n = 100000\n",
        "\n",
        "# The step size (delta x)\n",
        "dx = (b - a)/n\n",
        "\n",
        "# Setting the counter\n",
        "i = 0\n",
        "sum = 0\n",
        "while i < n:\n",
        "    sum = sum + f(a + i*dx)*dx\n",
        "    i = i + 1\n",
        "\n",
        "print('Final results for LHR N =',n)\n",
        "print(sum)\n"
      ],
      "execution_count": null,
      "outputs": [
        {
          "output_type": "stream",
          "text": [
            "Final results for LHR N = 100000\n",
            "83.3333333499995\n"
          ],
          "name": "stdout"
        }
      ]
    },
    {
      "cell_type": "code",
      "metadata": {
        "id": "UzTIopcUYSDj",
        "colab_type": "code",
        "colab": {}
      },
      "source": [
        ""
      ],
      "execution_count": null,
      "outputs": []
    },
    {
      "cell_type": "code",
      "metadata": {
        "id": "su0CrjdwYSDn",
        "colab_type": "code",
        "colab": {}
      },
      "source": [
        ""
      ],
      "execution_count": null,
      "outputs": []
    }
  ]
}