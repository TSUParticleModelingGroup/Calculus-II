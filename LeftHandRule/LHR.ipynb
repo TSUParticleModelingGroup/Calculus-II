import math
import numpy as np
from matplotlib import pyplot as plt

# opens the graphic in a new window
#%matplotlib qt5

# Sets the size of the window to draw in
plt.figure(figsize=(8,8))

#The following code axes system to draw on
tStart = -5
tStop = 5
fStart = -5
fStop = 5
plt.axis([tStart, tStop, fStart, fStop])
plt.ylabel('f', fontsize=20)
plt.xlabel('t', fontsize=20)
plt.title('Euler\'s Method over Direction Fields', fontsize=20)

def differentialEquation(f,t):
    "This is the differential equation that will be generating the output."
    return(f*0.5)

#The following code draws the direction fields
gridt = 0.4
gridf = 0.4
dt = gridt

t = tStart
while t <= tStop:
    f = fStart
    while f <= fStop:
        plt.plot([t], [f], 'ko', ms = 2.0)
        df = differentialEquation(f,t)*dt
        length = math.sqrt(df*df + dt*dt)/dt #makes the arrows have a length of the t grid
        plt.arrow(t, f, dt/length, df/length, head_width=0.04, head_length=0.08, fc='b', ec='r')
        f += gridf
    t += gridt

# The following code draws Euler's method
totalRunTime = 5.0
fStart = 1.0
tStart = -2.0
tStop = tStart + totalRunTime

dt = 0.01

fOld = fStart
t = tStart
plt.plot([tStart], [fStart], 'go', ms = 5.0)

while t <= tStop:
    df = differentialEquation(fOld,t)
    fNew = fOld + dt*df
    lines = plt.plot([t, t+dt], [fOld,fNew], color='b', linewidth=1.0)
    #print(t,fNew) # uncoment this line to see numeric outcomes
    t = t + dt
    fOld = fNew

plt.show()
        
print(t,fNew)
