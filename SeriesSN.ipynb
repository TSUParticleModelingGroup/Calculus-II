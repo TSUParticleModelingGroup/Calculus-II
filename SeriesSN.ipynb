{
  "nbformat": 4,
  "nbformat_minor": 0,
  "metadata": {
    "kernelspec": {
      "display_name": "Python 3",
      "language": "python",
      "name": "python3"
    },
    "language_info": {
      "codemirror_mode": {
        "name": "ipython",
        "version": 3
      },
      "file_extension": ".py",
      "mimetype": "text/x-python",
      "name": "python",
      "nbconvert_exporter": "python",
      "pygments_lexer": "ipython3",
      "version": "3.6.0"
    },
    "colab": {
      "name": "SiriesSN.ipynb",
      "provenance": [],
      "include_colab_link": true
    }
  },
  "cells": [
    {
      "cell_type": "markdown",
      "metadata": {
        "id": "view-in-github",
        "colab_type": "text"
      },
      "source": [
        "<a href=\"https://colab.research.google.com/github/TSUParticleModelingGroup/Calculus-II/blob/master/SiriesSN.ipynb\" target=\"_parent\"><img src=\"https://colab.research.google.com/assets/colab-badge.svg\" alt=\"Open In Colab\"/></a>"
      ]
    },
    {
      "cell_type": "code",
      "metadata": {
        "id": "BQcDelX-YSDd",
        "outputId": "ff9f9f38-e52b-4f40-8039-8d787d1bb14f",
        "colab": {
          "base_uri": "https://localhost:8080/",
          "height": 35
        }
      },
      "source": [
        "import math\n",
        "import numpy as np\n",
        "\n",
        "# note: This is how you do 4! in python math.factorial(4)\n",
        "# note: This is how you do 4 raised to the third power in python 4**3\n",
        "\n",
        "# The number terms to sum\n",
        "N = 10000\n",
        "\n",
        "# Where to start\n",
        "n = 1\n",
        "\n",
        "sum = 0\n",
        "while n <= N:\n",
        "    sum = sum + 1.0/(n*n)\n",
        "    n = n + 1\n",
        "\n",
        "print('Final results Sum =', sum, ',  N was', N)\n"
      ],
      "execution_count": 12,
      "outputs": [
        {
          "output_type": "stream",
          "text": [
            "Final results Sum = 1.6448340718480652 ,  N was 10000\n"
          ],
          "name": "stdout"
        }
      ]
    },
    {
      "cell_type": "code",
      "metadata": {
        "id": "UzTIopcUYSDj"
      },
      "source": [
        ""
      ],
      "execution_count": null,
      "outputs": []
    },
    {
      "cell_type": "code",
      "metadata": {
        "id": "su0CrjdwYSDn"
      },
      "source": [
        ""
      ],
      "execution_count": null,
      "outputs": []
    }
  ]
}
